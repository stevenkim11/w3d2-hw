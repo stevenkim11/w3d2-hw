{
 "cells": [
  {
   "cell_type": "markdown",
   "id": "7196054f",
   "metadata": {},
   "source": [
    "# Working with APIs"
   ]
  },
  {
   "cell_type": "markdown",
   "id": "0547b71e",
   "metadata": {},
   "source": [
    "API stands for Application programming interface<br>\n",
    "APIs are a way for applications to talk to eachother<br>\n",
    "In python we use the requests package to handle the connection<br>\n",
    "<small><strong>Note: It is requests with an s not request(this is a different package)</strong></small><br>\n",
    "Most API's communicate with data in the form of JSON<br>\n",
    "JSON stands for JavaScript Object Notation"
   ]
  },
  {
   "cell_type": "code",
   "execution_count": 2,
   "id": "4db9d154",
   "metadata": {},
   "outputs": [],
   "source": [
    "#import the packages we need:\n",
    "import requests"
   ]
  },
  {
   "cell_type": "markdown",
   "id": "e8c2ce51",
   "metadata": {},
   "source": [
    "We will be connecting to the Ergast F1 Racer API today:\n",
    "http://ergast.com/mrd/\n",
    "\n",
    "to view JSON data nicely in the Chrome browser install the extension JSONview"
   ]
  },
  {
   "cell_type": "code",
   "execution_count": 4,
   "id": "52c440c6",
   "metadata": {},
   "outputs": [
    {
     "name": "stdout",
     "output_type": "stream",
     "text": [
      "Help on package requests:\n",
      "\n",
      "NAME\n",
      "    requests\n",
      "\n",
      "DESCRIPTION\n",
      "    Requests HTTP Library\n",
      "    ~~~~~~~~~~~~~~~~~~~~~\n",
      "    \n",
      "    Requests is an HTTP library, written in Python, for human beings.\n",
      "    Basic GET usage:\n",
      "    \n",
      "       >>> import requests\n",
      "       >>> r = requests.get('https://www.python.org')\n",
      "       >>> r.status_code\n",
      "       200\n",
      "       >>> b'Python is a programming language' in r.content\n",
      "       True\n",
      "    \n",
      "    ... or POST:\n",
      "    \n",
      "       >>> payload = dict(key1='value1', key2='value2')\n",
      "       >>> r = requests.post('https://httpbin.org/post', data=payload)\n",
      "       >>> print(r.text)\n",
      "       {\n",
      "         ...\n",
      "         \"form\": {\n",
      "           \"key1\": \"value1\",\n",
      "           \"key2\": \"value2\"\n",
      "         },\n",
      "         ...\n",
      "       }\n",
      "    \n",
      "    The other HTTP methods are supported - see `requests.api`. Full documentation\n",
      "    is at <https://requests.readthedocs.io>.\n",
      "    \n",
      "    :copyright: (c) 2017 by Kenneth Reitz.\n",
      "    :license: Apache 2.0, see LICENSE for more details.\n",
      "\n",
      "PACKAGE CONTENTS\n",
      "    __version__\n",
      "    _internal_utils\n",
      "    adapters\n",
      "    api\n",
      "    auth\n",
      "    certs\n",
      "    compat\n",
      "    cookies\n",
      "    exceptions\n",
      "    help\n",
      "    hooks\n",
      "    models\n",
      "    packages\n",
      "    sessions\n",
      "    status_codes\n",
      "    structures\n",
      "    utils\n",
      "\n",
      "FUNCTIONS\n",
      "    check_compatibility(urllib3_version, chardet_version, charset_normalizer_version)\n",
      "\n",
      "DATA\n",
      "    __author_email__ = 'me@kennethreitz.org'\n",
      "    __build__ = 141057\n",
      "    __cake__ = '✨ 🍰 ✨'\n",
      "    __copyright__ = 'Copyright 2022 Kenneth Reitz'\n",
      "    __description__ = 'Python HTTP for Humans.'\n",
      "    __license__ = 'Apache 2.0'\n",
      "    __title__ = 'requests'\n",
      "    __url__ = 'https://requests.readthedocs.io'\n",
      "    chardet_version = '4.0.0'\n",
      "    charset_normalizer_version = '2.0.4'\n",
      "    codes = <lookup 'status_codes'>\n",
      "\n",
      "VERSION\n",
      "    2.27.1\n",
      "\n",
      "AUTHOR\n",
      "    Kenneth Reitz\n",
      "\n",
      "FILE\n",
      "    c:\\users\\steven kim\\anaconda3\\lib\\site-packages\\requests\\__init__.py\n",
      "\n",
      "\n"
     ]
    }
   ],
   "source": [
    "help(requests)"
   ]
  },
  {
   "cell_type": "code",
   "execution_count": 9,
   "id": "f60c1b4a",
   "metadata": {},
   "outputs": [],
   "source": [
    "url = 'https://ergast.com/api/f1/2008/5/driverStandings.json'"
   ]
  },
  {
   "cell_type": "code",
   "execution_count": 10,
   "id": "7b63a204",
   "metadata": {},
   "outputs": [
    {
     "name": "stdout",
     "output_type": "stream",
     "text": [
      "<Response [200]>\n"
     ]
    }
   ],
   "source": [
    "#response object\n",
    "response = requests.get(url)\n",
    "print(response)"
   ]
  },
  {
   "cell_type": "code",
   "execution_count": 12,
   "id": "c6d1fdaf",
   "metadata": {},
   "outputs": [
    {
     "name": "stdout",
     "output_type": "stream",
     "text": [
      "200\n"
     ]
    },
    {
     "data": {
      "text/plain": [
       "True"
      ]
     },
     "execution_count": 12,
     "metadata": {},
     "output_type": "execute_result"
    }
   ],
   "source": [
    "#check and make sure we got a successful response from the API\n",
    "print(response.status_code)\n",
    "\n",
    "response.ok"
   ]
  },
  {
   "cell_type": "code",
   "execution_count": 13,
   "id": "ed4d3256",
   "metadata": {},
   "outputs": [
    {
     "name": "stdout",
     "output_type": "stream",
     "text": [
      "{'MRData': {'xmlns': 'http://ergast.com/mrd/1.5', 'series': 'f1', 'url': 'http://ergast.com/api/f1/2008/5/driverstandings.json', 'limit': '30', 'offset': '0', 'total': '22', 'StandingsTable': {'season': '2008', 'round': '5', 'StandingsLists': [{'season': '2008', 'round': '5', 'DriverStandings': [{'position': '1', 'positionText': '1', 'points': '35', 'wins': '2', 'Driver': {'driverId': 'raikkonen', 'permanentNumber': '7', 'code': 'RAI', 'url': 'http://en.wikipedia.org/wiki/Kimi_R%C3%A4ikk%C3%B6nen', 'givenName': 'Kimi', 'familyName': 'Räikkönen', 'dateOfBirth': '1979-10-17', 'nationality': 'Finnish'}, 'Constructors': [{'constructorId': 'ferrari', 'url': 'http://en.wikipedia.org/wiki/Scuderia_Ferrari', 'name': 'Ferrari', 'nationality': 'Italian'}]}, {'position': '2', 'positionText': '2', 'points': '28', 'wins': '2', 'Driver': {'driverId': 'massa', 'permanentNumber': '19', 'code': 'MAS', 'url': 'http://en.wikipedia.org/wiki/Felipe_Massa', 'givenName': 'Felipe', 'familyName': 'Massa', 'dateOfBirth': '1981-04-25', 'nationality': 'Brazilian'}, 'Constructors': [{'constructorId': 'ferrari', 'url': 'http://en.wikipedia.org/wiki/Scuderia_Ferrari', 'name': 'Ferrari', 'nationality': 'Italian'}]}, {'position': '3', 'positionText': '3', 'points': '28', 'wins': '1', 'Driver': {'driverId': 'hamilton', 'permanentNumber': '44', 'code': 'HAM', 'url': 'http://en.wikipedia.org/wiki/Lewis_Hamilton', 'givenName': 'Lewis', 'familyName': 'Hamilton', 'dateOfBirth': '1985-01-07', 'nationality': 'British'}, 'Constructors': [{'constructorId': 'mclaren', 'url': 'http://en.wikipedia.org/wiki/McLaren', 'name': 'McLaren', 'nationality': 'British'}]}, {'position': '4', 'positionText': '4', 'points': '24', 'wins': '0', 'Driver': {'driverId': 'kubica', 'permanentNumber': '88', 'code': 'KUB', 'url': 'http://en.wikipedia.org/wiki/Robert_Kubica', 'givenName': 'Robert', 'familyName': 'Kubica', 'dateOfBirth': '1984-12-07', 'nationality': 'Polish'}, 'Constructors': [{'constructorId': 'bmw_sauber', 'url': 'http://en.wikipedia.org/wiki/BMW_Sauber', 'name': 'BMW Sauber', 'nationality': 'German'}]}, {'position': '5', 'positionText': '5', 'points': '20', 'wins': '0', 'Driver': {'driverId': 'heidfeld', 'code': 'HEI', 'url': 'http://en.wikipedia.org/wiki/Nick_Heidfeld', 'givenName': 'Nick', 'familyName': 'Heidfeld', 'dateOfBirth': '1977-05-10', 'nationality': 'German'}, 'Constructors': [{'constructorId': 'bmw_sauber', 'url': 'http://en.wikipedia.org/wiki/BMW_Sauber', 'name': 'BMW Sauber', 'nationality': 'German'}]}, {'position': '6', 'positionText': '6', 'points': '14', 'wins': '0', 'Driver': {'driverId': 'kovalainen', 'code': 'KOV', 'url': 'http://en.wikipedia.org/wiki/Heikki_Kovalainen', 'givenName': 'Heikki', 'familyName': 'Kovalainen', 'dateOfBirth': '1981-10-19', 'nationality': 'Finnish'}, 'Constructors': [{'constructorId': 'mclaren', 'url': 'http://en.wikipedia.org/wiki/McLaren', 'name': 'McLaren', 'nationality': 'British'}]}, {'position': '7', 'positionText': '7', 'points': '10', 'wins': '0', 'Driver': {'driverId': 'webber', 'code': 'WEB', 'url': 'http://en.wikipedia.org/wiki/Mark_Webber_(racing_driver)', 'givenName': 'Mark', 'familyName': 'Webber', 'dateOfBirth': '1976-08-27', 'nationality': 'Australian'}, 'Constructors': [{'constructorId': 'red_bull', 'url': 'http://en.wikipedia.org/wiki/Red_Bull_Racing', 'name': 'Red Bull', 'nationality': 'Austrian'}]}, {'position': '8', 'positionText': '8', 'points': '9', 'wins': '0', 'Driver': {'driverId': 'alonso', 'permanentNumber': '14', 'code': 'ALO', 'url': 'http://en.wikipedia.org/wiki/Fernando_Alonso', 'givenName': 'Fernando', 'familyName': 'Alonso', 'dateOfBirth': '1981-07-29', 'nationality': 'Spanish'}, 'Constructors': [{'constructorId': 'renault', 'url': 'http://en.wikipedia.org/wiki/Renault_in_Formula_One', 'name': 'Renault', 'nationality': 'French'}]}, {'position': '9', 'positionText': '9', 'points': '9', 'wins': '0', 'Driver': {'driverId': 'trulli', 'code': 'TRU', 'url': 'http://en.wikipedia.org/wiki/Jarno_Trulli', 'givenName': 'Jarno', 'familyName': 'Trulli', 'dateOfBirth': '1974-07-13', 'nationality': 'Italian'}, 'Constructors': [{'constructorId': 'toyota', 'url': 'http://en.wikipedia.org/wiki/Toyota_Racing', 'name': 'Toyota', 'nationality': 'Japanese'}]}, {'position': '10', 'positionText': '10', 'points': '8', 'wins': '0', 'Driver': {'driverId': 'rosberg', 'permanentNumber': '6', 'code': 'ROS', 'url': 'http://en.wikipedia.org/wiki/Nico_Rosberg', 'givenName': 'Nico', 'familyName': 'Rosberg', 'dateOfBirth': '1985-06-27', 'nationality': 'German'}, 'Constructors': [{'constructorId': 'williams', 'url': 'http://en.wikipedia.org/wiki/Williams_Grand_Prix_Engineering', 'name': 'Williams', 'nationality': 'British'}]}, {'position': '11', 'positionText': '11', 'points': '5', 'wins': '0', 'Driver': {'driverId': 'nakajima', 'code': 'NAK', 'url': 'http://en.wikipedia.org/wiki/Kazuki_Nakajima', 'givenName': 'Kazuki', 'familyName': 'Nakajima', 'dateOfBirth': '1985-01-11', 'nationality': 'Japanese'}, 'Constructors': [{'constructorId': 'williams', 'url': 'http://en.wikipedia.org/wiki/Williams_Grand_Prix_Engineering', 'name': 'Williams', 'nationality': 'British'}]}, {'position': '12', 'positionText': '12', 'points': '3', 'wins': '0', 'Driver': {'driverId': 'button', 'permanentNumber': '22', 'code': 'BUT', 'url': 'http://en.wikipedia.org/wiki/Jenson_Button', 'givenName': 'Jenson', 'familyName': 'Button', 'dateOfBirth': '1980-01-19', 'nationality': 'British'}, 'Constructors': [{'constructorId': 'honda', 'url': 'http://en.wikipedia.org/wiki/Honda_Racing_F1', 'name': 'Honda', 'nationality': 'Japanese'}]}, {'position': '13', 'positionText': '13', 'points': '2', 'wins': '0', 'Driver': {'driverId': 'bourdais', 'code': 'BOU', 'url': 'http://en.wikipedia.org/wiki/S%C3%A9bastien_Bourdais', 'givenName': 'Sébastien', 'familyName': 'Bourdais', 'dateOfBirth': '1979-02-28', 'nationality': 'French'}, 'Constructors': [{'constructorId': 'toro_rosso', 'url': 'http://en.wikipedia.org/wiki/Scuderia_Toro_Rosso', 'name': 'Toro Rosso', 'nationality': 'Italian'}]}, {'position': '14', 'positionText': '14', 'points': '0', 'wins': '0', 'Driver': {'driverId': 'coulthard', 'code': 'COU', 'url': 'http://en.wikipedia.org/wiki/David_Coulthard', 'givenName': 'David', 'familyName': 'Coulthard', 'dateOfBirth': '1971-03-27', 'nationality': 'British'}, 'Constructors': [{'constructorId': 'red_bull', 'url': 'http://en.wikipedia.org/wiki/Red_Bull_Racing', 'name': 'Red Bull', 'nationality': 'Austrian'}]}, {'position': '15', 'positionText': '15', 'points': '0', 'wins': '0', 'Driver': {'driverId': 'glock', 'code': 'GLO', 'url': 'http://en.wikipedia.org/wiki/Timo_Glock', 'givenName': 'Timo', 'familyName': 'Glock', 'dateOfBirth': '1982-03-18', 'nationality': 'German'}, 'Constructors': [{'constructorId': 'toyota', 'url': 'http://en.wikipedia.org/wiki/Toyota_Racing', 'name': 'Toyota', 'nationality': 'Japanese'}]}, {'position': '16', 'positionText': '16', 'points': '0', 'wins': '0', 'Driver': {'driverId': 'fisichella', 'code': 'FIS', 'url': 'http://en.wikipedia.org/wiki/Giancarlo_Fisichella', 'givenName': 'Giancarlo', 'familyName': 'Fisichella', 'dateOfBirth': '1973-01-14', 'nationality': 'Italian'}, 'Constructors': [{'constructorId': 'force_india', 'url': 'http://en.wikipedia.org/wiki/Racing_Point_Force_India', 'name': 'Force India', 'nationality': 'Indian'}]}, {'position': '17', 'positionText': '17', 'points': '0', 'wins': '0', 'Driver': {'driverId': 'barrichello', 'code': 'BAR', 'url': 'http://en.wikipedia.org/wiki/Rubens_Barrichello', 'givenName': 'Rubens', 'familyName': 'Barrichello', 'dateOfBirth': '1972-05-23', 'nationality': 'Brazilian'}, 'Constructors': [{'constructorId': 'honda', 'url': 'http://en.wikipedia.org/wiki/Honda_Racing_F1', 'name': 'Honda', 'nationality': 'Japanese'}]}, {'position': '18', 'positionText': '18', 'points': '0', 'wins': '0', 'Driver': {'driverId': 'piquet_jr', 'code': 'PIQ', 'url': 'http://en.wikipedia.org/wiki/Nelson_Piquet,_Jr.', 'givenName': 'Nelson', 'familyName': 'Piquet Jr.', 'dateOfBirth': '1985-07-25', 'nationality': 'Brazilian'}, 'Constructors': [{'constructorId': 'renault', 'url': 'http://en.wikipedia.org/wiki/Renault_in_Formula_One', 'name': 'Renault', 'nationality': 'French'}]}, {'position': '19', 'positionText': '19', 'points': '0', 'wins': '0', 'Driver': {'driverId': 'sato', 'code': 'SAT', 'url': 'http://en.wikipedia.org/wiki/Takuma_Sato', 'givenName': 'Takuma', 'familyName': 'Sato', 'dateOfBirth': '1977-01-28', 'nationality': 'Japanese'}, 'Constructors': [{'constructorId': 'super_aguri', 'url': 'http://en.wikipedia.org/wiki/Super_Aguri_F1', 'name': 'Super Aguri', 'nationality': 'Japanese'}]}, {'position': '20', 'positionText': '20', 'points': '0', 'wins': '0', 'Driver': {'driverId': 'davidson', 'code': 'DAV', 'url': 'http://en.wikipedia.org/wiki/Anthony_Davidson', 'givenName': 'Anthony', 'familyName': 'Davidson', 'dateOfBirth': '1979-04-18', 'nationality': 'British'}, 'Constructors': [{'constructorId': 'super_aguri', 'url': 'http://en.wikipedia.org/wiki/Super_Aguri_F1', 'name': 'Super Aguri', 'nationality': 'Japanese'}]}, {'position': '21', 'positionText': '21', 'points': '0', 'wins': '0', 'Driver': {'driverId': 'sutil', 'permanentNumber': '99', 'code': 'SUT', 'url': 'http://en.wikipedia.org/wiki/Adrian_Sutil', 'givenName': 'Adrian', 'familyName': 'Sutil', 'dateOfBirth': '1983-01-11', 'nationality': 'German'}, 'Constructors': [{'constructorId': 'force_india', 'url': 'http://en.wikipedia.org/wiki/Racing_Point_Force_India', 'name': 'Force India', 'nationality': 'Indian'}]}, {'position': '22', 'positionText': '22', 'points': '0', 'wins': '0', 'Driver': {'driverId': 'vettel', 'permanentNumber': '5', 'code': 'VET', 'url': 'http://en.wikipedia.org/wiki/Sebastian_Vettel', 'givenName': 'Sebastian', 'familyName': 'Vettel', 'dateOfBirth': '1987-07-03', 'nationality': 'German'}, 'Constructors': [{'constructorId': 'toro_rosso', 'url': 'http://en.wikipedia.org/wiki/Scuderia_Toro_Rosso', 'name': 'Toro Rosso', 'nationality': 'Italian'}]}]}]}}}\n"
     ]
    }
   ],
   "source": [
    "#view the response as a JSON\n",
    "\n",
    "print(response.json())"
   ]
  },
  {
   "cell_type": "code",
   "execution_count": 14,
   "id": "92e6cd2c",
   "metadata": {},
   "outputs": [
    {
     "name": "stdout",
     "output_type": "stream",
     "text": [
      "<class 'dict'>\n"
     ]
    }
   ],
   "source": [
    "print(type(response.json()))"
   ]
  },
  {
   "cell_type": "code",
   "execution_count": 15,
   "id": "f074dfcf",
   "metadata": {},
   "outputs": [
    {
     "name": "stdout",
     "output_type": "stream",
     "text": [
      "[{'position': '1', 'positionText': '1', 'points': '35', 'wins': '2', 'Driver': {'driverId': 'raikkonen', 'permanentNumber': '7', 'code': 'RAI', 'url': 'http://en.wikipedia.org/wiki/Kimi_R%C3%A4ikk%C3%B6nen', 'givenName': 'Kimi', 'familyName': 'Räikkönen', 'dateOfBirth': '1979-10-17', 'nationality': 'Finnish'}, 'Constructors': [{'constructorId': 'ferrari', 'url': 'http://en.wikipedia.org/wiki/Scuderia_Ferrari', 'name': 'Ferrari', 'nationality': 'Italian'}]}, {'position': '2', 'positionText': '2', 'points': '28', 'wins': '2', 'Driver': {'driverId': 'massa', 'permanentNumber': '19', 'code': 'MAS', 'url': 'http://en.wikipedia.org/wiki/Felipe_Massa', 'givenName': 'Felipe', 'familyName': 'Massa', 'dateOfBirth': '1981-04-25', 'nationality': 'Brazilian'}, 'Constructors': [{'constructorId': 'ferrari', 'url': 'http://en.wikipedia.org/wiki/Scuderia_Ferrari', 'name': 'Ferrari', 'nationality': 'Italian'}]}, {'position': '3', 'positionText': '3', 'points': '28', 'wins': '1', 'Driver': {'driverId': 'hamilton', 'permanentNumber': '44', 'code': 'HAM', 'url': 'http://en.wikipedia.org/wiki/Lewis_Hamilton', 'givenName': 'Lewis', 'familyName': 'Hamilton', 'dateOfBirth': '1985-01-07', 'nationality': 'British'}, 'Constructors': [{'constructorId': 'mclaren', 'url': 'http://en.wikipedia.org/wiki/McLaren', 'name': 'McLaren', 'nationality': 'British'}]}, {'position': '4', 'positionText': '4', 'points': '24', 'wins': '0', 'Driver': {'driverId': 'kubica', 'permanentNumber': '88', 'code': 'KUB', 'url': 'http://en.wikipedia.org/wiki/Robert_Kubica', 'givenName': 'Robert', 'familyName': 'Kubica', 'dateOfBirth': '1984-12-07', 'nationality': 'Polish'}, 'Constructors': [{'constructorId': 'bmw_sauber', 'url': 'http://en.wikipedia.org/wiki/BMW_Sauber', 'name': 'BMW Sauber', 'nationality': 'German'}]}, {'position': '5', 'positionText': '5', 'points': '20', 'wins': '0', 'Driver': {'driverId': 'heidfeld', 'code': 'HEI', 'url': 'http://en.wikipedia.org/wiki/Nick_Heidfeld', 'givenName': 'Nick', 'familyName': 'Heidfeld', 'dateOfBirth': '1977-05-10', 'nationality': 'German'}, 'Constructors': [{'constructorId': 'bmw_sauber', 'url': 'http://en.wikipedia.org/wiki/BMW_Sauber', 'name': 'BMW Sauber', 'nationality': 'German'}]}, {'position': '6', 'positionText': '6', 'points': '14', 'wins': '0', 'Driver': {'driverId': 'kovalainen', 'code': 'KOV', 'url': 'http://en.wikipedia.org/wiki/Heikki_Kovalainen', 'givenName': 'Heikki', 'familyName': 'Kovalainen', 'dateOfBirth': '1981-10-19', 'nationality': 'Finnish'}, 'Constructors': [{'constructorId': 'mclaren', 'url': 'http://en.wikipedia.org/wiki/McLaren', 'name': 'McLaren', 'nationality': 'British'}]}, {'position': '7', 'positionText': '7', 'points': '10', 'wins': '0', 'Driver': {'driverId': 'webber', 'code': 'WEB', 'url': 'http://en.wikipedia.org/wiki/Mark_Webber_(racing_driver)', 'givenName': 'Mark', 'familyName': 'Webber', 'dateOfBirth': '1976-08-27', 'nationality': 'Australian'}, 'Constructors': [{'constructorId': 'red_bull', 'url': 'http://en.wikipedia.org/wiki/Red_Bull_Racing', 'name': 'Red Bull', 'nationality': 'Austrian'}]}, {'position': '8', 'positionText': '8', 'points': '9', 'wins': '0', 'Driver': {'driverId': 'alonso', 'permanentNumber': '14', 'code': 'ALO', 'url': 'http://en.wikipedia.org/wiki/Fernando_Alonso', 'givenName': 'Fernando', 'familyName': 'Alonso', 'dateOfBirth': '1981-07-29', 'nationality': 'Spanish'}, 'Constructors': [{'constructorId': 'renault', 'url': 'http://en.wikipedia.org/wiki/Renault_in_Formula_One', 'name': 'Renault', 'nationality': 'French'}]}, {'position': '9', 'positionText': '9', 'points': '9', 'wins': '0', 'Driver': {'driverId': 'trulli', 'code': 'TRU', 'url': 'http://en.wikipedia.org/wiki/Jarno_Trulli', 'givenName': 'Jarno', 'familyName': 'Trulli', 'dateOfBirth': '1974-07-13', 'nationality': 'Italian'}, 'Constructors': [{'constructorId': 'toyota', 'url': 'http://en.wikipedia.org/wiki/Toyota_Racing', 'name': 'Toyota', 'nationality': 'Japanese'}]}, {'position': '10', 'positionText': '10', 'points': '8', 'wins': '0', 'Driver': {'driverId': 'rosberg', 'permanentNumber': '6', 'code': 'ROS', 'url': 'http://en.wikipedia.org/wiki/Nico_Rosberg', 'givenName': 'Nico', 'familyName': 'Rosberg', 'dateOfBirth': '1985-06-27', 'nationality': 'German'}, 'Constructors': [{'constructorId': 'williams', 'url': 'http://en.wikipedia.org/wiki/Williams_Grand_Prix_Engineering', 'name': 'Williams', 'nationality': 'British'}]}, {'position': '11', 'positionText': '11', 'points': '5', 'wins': '0', 'Driver': {'driverId': 'nakajima', 'code': 'NAK', 'url': 'http://en.wikipedia.org/wiki/Kazuki_Nakajima', 'givenName': 'Kazuki', 'familyName': 'Nakajima', 'dateOfBirth': '1985-01-11', 'nationality': 'Japanese'}, 'Constructors': [{'constructorId': 'williams', 'url': 'http://en.wikipedia.org/wiki/Williams_Grand_Prix_Engineering', 'name': 'Williams', 'nationality': 'British'}]}, {'position': '12', 'positionText': '12', 'points': '3', 'wins': '0', 'Driver': {'driverId': 'button', 'permanentNumber': '22', 'code': 'BUT', 'url': 'http://en.wikipedia.org/wiki/Jenson_Button', 'givenName': 'Jenson', 'familyName': 'Button', 'dateOfBirth': '1980-01-19', 'nationality': 'British'}, 'Constructors': [{'constructorId': 'honda', 'url': 'http://en.wikipedia.org/wiki/Honda_Racing_F1', 'name': 'Honda', 'nationality': 'Japanese'}]}, {'position': '13', 'positionText': '13', 'points': '2', 'wins': '0', 'Driver': {'driverId': 'bourdais', 'code': 'BOU', 'url': 'http://en.wikipedia.org/wiki/S%C3%A9bastien_Bourdais', 'givenName': 'Sébastien', 'familyName': 'Bourdais', 'dateOfBirth': '1979-02-28', 'nationality': 'French'}, 'Constructors': [{'constructorId': 'toro_rosso', 'url': 'http://en.wikipedia.org/wiki/Scuderia_Toro_Rosso', 'name': 'Toro Rosso', 'nationality': 'Italian'}]}, {'position': '14', 'positionText': '14', 'points': '0', 'wins': '0', 'Driver': {'driverId': 'coulthard', 'code': 'COU', 'url': 'http://en.wikipedia.org/wiki/David_Coulthard', 'givenName': 'David', 'familyName': 'Coulthard', 'dateOfBirth': '1971-03-27', 'nationality': 'British'}, 'Constructors': [{'constructorId': 'red_bull', 'url': 'http://en.wikipedia.org/wiki/Red_Bull_Racing', 'name': 'Red Bull', 'nationality': 'Austrian'}]}, {'position': '15', 'positionText': '15', 'points': '0', 'wins': '0', 'Driver': {'driverId': 'glock', 'code': 'GLO', 'url': 'http://en.wikipedia.org/wiki/Timo_Glock', 'givenName': 'Timo', 'familyName': 'Glock', 'dateOfBirth': '1982-03-18', 'nationality': 'German'}, 'Constructors': [{'constructorId': 'toyota', 'url': 'http://en.wikipedia.org/wiki/Toyota_Racing', 'name': 'Toyota', 'nationality': 'Japanese'}]}, {'position': '16', 'positionText': '16', 'points': '0', 'wins': '0', 'Driver': {'driverId': 'fisichella', 'code': 'FIS', 'url': 'http://en.wikipedia.org/wiki/Giancarlo_Fisichella', 'givenName': 'Giancarlo', 'familyName': 'Fisichella', 'dateOfBirth': '1973-01-14', 'nationality': 'Italian'}, 'Constructors': [{'constructorId': 'force_india', 'url': 'http://en.wikipedia.org/wiki/Racing_Point_Force_India', 'name': 'Force India', 'nationality': 'Indian'}]}, {'position': '17', 'positionText': '17', 'points': '0', 'wins': '0', 'Driver': {'driverId': 'barrichello', 'code': 'BAR', 'url': 'http://en.wikipedia.org/wiki/Rubens_Barrichello', 'givenName': 'Rubens', 'familyName': 'Barrichello', 'dateOfBirth': '1972-05-23', 'nationality': 'Brazilian'}, 'Constructors': [{'constructorId': 'honda', 'url': 'http://en.wikipedia.org/wiki/Honda_Racing_F1', 'name': 'Honda', 'nationality': 'Japanese'}]}, {'position': '18', 'positionText': '18', 'points': '0', 'wins': '0', 'Driver': {'driverId': 'piquet_jr', 'code': 'PIQ', 'url': 'http://en.wikipedia.org/wiki/Nelson_Piquet,_Jr.', 'givenName': 'Nelson', 'familyName': 'Piquet Jr.', 'dateOfBirth': '1985-07-25', 'nationality': 'Brazilian'}, 'Constructors': [{'constructorId': 'renault', 'url': 'http://en.wikipedia.org/wiki/Renault_in_Formula_One', 'name': 'Renault', 'nationality': 'French'}]}, {'position': '19', 'positionText': '19', 'points': '0', 'wins': '0', 'Driver': {'driverId': 'sato', 'code': 'SAT', 'url': 'http://en.wikipedia.org/wiki/Takuma_Sato', 'givenName': 'Takuma', 'familyName': 'Sato', 'dateOfBirth': '1977-01-28', 'nationality': 'Japanese'}, 'Constructors': [{'constructorId': 'super_aguri', 'url': 'http://en.wikipedia.org/wiki/Super_Aguri_F1', 'name': 'Super Aguri', 'nationality': 'Japanese'}]}, {'position': '20', 'positionText': '20', 'points': '0', 'wins': '0', 'Driver': {'driverId': 'davidson', 'code': 'DAV', 'url': 'http://en.wikipedia.org/wiki/Anthony_Davidson', 'givenName': 'Anthony', 'familyName': 'Davidson', 'dateOfBirth': '1979-04-18', 'nationality': 'British'}, 'Constructors': [{'constructorId': 'super_aguri', 'url': 'http://en.wikipedia.org/wiki/Super_Aguri_F1', 'name': 'Super Aguri', 'nationality': 'Japanese'}]}, {'position': '21', 'positionText': '21', 'points': '0', 'wins': '0', 'Driver': {'driverId': 'sutil', 'permanentNumber': '99', 'code': 'SUT', 'url': 'http://en.wikipedia.org/wiki/Adrian_Sutil', 'givenName': 'Adrian', 'familyName': 'Sutil', 'dateOfBirth': '1983-01-11', 'nationality': 'German'}, 'Constructors': [{'constructorId': 'force_india', 'url': 'http://en.wikipedia.org/wiki/Racing_Point_Force_India', 'name': 'Force India', 'nationality': 'Indian'}]}, {'position': '22', 'positionText': '22', 'points': '0', 'wins': '0', 'Driver': {'driverId': 'vettel', 'permanentNumber': '5', 'code': 'VET', 'url': 'http://en.wikipedia.org/wiki/Sebastian_Vettel', 'givenName': 'Sebastian', 'familyName': 'Vettel', 'dateOfBirth': '1987-07-03', 'nationality': 'German'}, 'Constructors': [{'constructorId': 'toro_rosso', 'url': 'http://en.wikipedia.org/wiki/Scuderia_Toro_Rosso', 'name': 'Toro Rosso', 'nationality': 'Italian'}]}]\n"
     ]
    }
   ],
   "source": [
    "# We only want the Driver Standings\n",
    "data = response.json()['MRData']['StandingsTable']['StandingsLists'][0]['DriverStandings']\n",
    "print(data)"
   ]
  },
  {
   "cell_type": "code",
   "execution_count": 16,
   "id": "be46a950",
   "metadata": {},
   "outputs": [
    {
     "data": {
      "text/plain": [
       "list"
      ]
     },
     "execution_count": 16,
     "metadata": {},
     "output_type": "execute_result"
    }
   ],
   "source": [
    "type(data)"
   ]
  },
  {
   "cell_type": "code",
   "execution_count": 19,
   "id": "3740c752",
   "metadata": {},
   "outputs": [
    {
     "data": {
      "text/plain": [
       "{'position': '1',\n",
       " 'positionText': '1',\n",
       " 'points': '35',\n",
       " 'wins': '2',\n",
       " 'Driver': {'driverId': 'raikkonen',\n",
       "  'permanentNumber': '7',\n",
       "  'code': 'RAI',\n",
       "  'url': 'http://en.wikipedia.org/wiki/Kimi_R%C3%A4ikk%C3%B6nen',\n",
       "  'givenName': 'Kimi',\n",
       "  'familyName': 'Räikkönen',\n",
       "  'dateOfBirth': '1979-10-17',\n",
       "  'nationality': 'Finnish'},\n",
       " 'Constructors': [{'constructorId': 'ferrari',\n",
       "   'url': 'http://en.wikipedia.org/wiki/Scuderia_Ferrari',\n",
       "   'name': 'Ferrari',\n",
       "   'nationality': 'Italian'}]}"
      ]
     },
     "execution_count": 19,
     "metadata": {},
     "output_type": "execute_result"
    }
   ],
   "source": [
    "data[0]"
   ]
  },
  {
   "cell_type": "code",
   "execution_count": 22,
   "id": "ef99efdd",
   "metadata": {},
   "outputs": [
    {
     "data": {
      "text/plain": [
       "[{'Kimi Räikkönen': {'first_name': 'Kimi',\n",
       "   'last_name': 'Räikkönen',\n",
       "   'position': '1',\n",
       "   'wins': '2',\n",
       "   'DOB': '1979-10-17',\n",
       "   'nationality': 'Finnish',\n",
       "   'contructor': 'Ferrari'}},\n",
       " {'Felipe Massa': {'first_name': 'Felipe',\n",
       "   'last_name': 'Massa',\n",
       "   'position': '2',\n",
       "   'wins': '2',\n",
       "   'DOB': '1981-04-25',\n",
       "   'nationality': 'Brazilian',\n",
       "   'contructor': 'Ferrari'}},\n",
       " {'Lewis Hamilton': {'first_name': 'Lewis',\n",
       "   'last_name': 'Hamilton',\n",
       "   'position': '3',\n",
       "   'wins': '1',\n",
       "   'DOB': '1985-01-07',\n",
       "   'nationality': 'British',\n",
       "   'contructor': 'McLaren'}},\n",
       " {'Robert Kubica': {'first_name': 'Robert',\n",
       "   'last_name': 'Kubica',\n",
       "   'position': '4',\n",
       "   'wins': '0',\n",
       "   'DOB': '1984-12-07',\n",
       "   'nationality': 'Polish',\n",
       "   'contructor': 'BMW Sauber'}},\n",
       " {'Nick Heidfeld': {'first_name': 'Nick',\n",
       "   'last_name': 'Heidfeld',\n",
       "   'position': '5',\n",
       "   'wins': '0',\n",
       "   'DOB': '1977-05-10',\n",
       "   'nationality': 'German',\n",
       "   'contructor': 'BMW Sauber'}},\n",
       " {'Heikki Kovalainen': {'first_name': 'Heikki',\n",
       "   'last_name': 'Kovalainen',\n",
       "   'position': '6',\n",
       "   'wins': '0',\n",
       "   'DOB': '1981-10-19',\n",
       "   'nationality': 'Finnish',\n",
       "   'contructor': 'McLaren'}},\n",
       " {'Mark Webber': {'first_name': 'Mark',\n",
       "   'last_name': 'Webber',\n",
       "   'position': '7',\n",
       "   'wins': '0',\n",
       "   'DOB': '1976-08-27',\n",
       "   'nationality': 'Australian',\n",
       "   'contructor': 'Red Bull'}},\n",
       " {'Fernando Alonso': {'first_name': 'Fernando',\n",
       "   'last_name': 'Alonso',\n",
       "   'position': '8',\n",
       "   'wins': '0',\n",
       "   'DOB': '1981-07-29',\n",
       "   'nationality': 'Spanish',\n",
       "   'contructor': 'Renault'}},\n",
       " {'Jarno Trulli': {'first_name': 'Jarno',\n",
       "   'last_name': 'Trulli',\n",
       "   'position': '9',\n",
       "   'wins': '0',\n",
       "   'DOB': '1974-07-13',\n",
       "   'nationality': 'Italian',\n",
       "   'contructor': 'Toyota'}},\n",
       " {'Nico Rosberg': {'first_name': 'Nico',\n",
       "   'last_name': 'Rosberg',\n",
       "   'position': '10',\n",
       "   'wins': '0',\n",
       "   'DOB': '1985-06-27',\n",
       "   'nationality': 'German',\n",
       "   'contructor': 'Williams'}},\n",
       " {'Kazuki Nakajima': {'first_name': 'Kazuki',\n",
       "   'last_name': 'Nakajima',\n",
       "   'position': '11',\n",
       "   'wins': '0',\n",
       "   'DOB': '1985-01-11',\n",
       "   'nationality': 'Japanese',\n",
       "   'contructor': 'Williams'}},\n",
       " {'Jenson Button': {'first_name': 'Jenson',\n",
       "   'last_name': 'Button',\n",
       "   'position': '12',\n",
       "   'wins': '0',\n",
       "   'DOB': '1980-01-19',\n",
       "   'nationality': 'British',\n",
       "   'contructor': 'Honda'}},\n",
       " {'Sébastien Bourdais': {'first_name': 'Sébastien',\n",
       "   'last_name': 'Bourdais',\n",
       "   'position': '13',\n",
       "   'wins': '0',\n",
       "   'DOB': '1979-02-28',\n",
       "   'nationality': 'French',\n",
       "   'contructor': 'Toro Rosso'}},\n",
       " {'David Coulthard': {'first_name': 'David',\n",
       "   'last_name': 'Coulthard',\n",
       "   'position': '14',\n",
       "   'wins': '0',\n",
       "   'DOB': '1971-03-27',\n",
       "   'nationality': 'British',\n",
       "   'contructor': 'Red Bull'}},\n",
       " {'Timo Glock': {'first_name': 'Timo',\n",
       "   'last_name': 'Glock',\n",
       "   'position': '15',\n",
       "   'wins': '0',\n",
       "   'DOB': '1982-03-18',\n",
       "   'nationality': 'German',\n",
       "   'contructor': 'Toyota'}},\n",
       " {'Giancarlo Fisichella': {'first_name': 'Giancarlo',\n",
       "   'last_name': 'Fisichella',\n",
       "   'position': '16',\n",
       "   'wins': '0',\n",
       "   'DOB': '1973-01-14',\n",
       "   'nationality': 'Italian',\n",
       "   'contructor': 'Force India'}},\n",
       " {'Rubens Barrichello': {'first_name': 'Rubens',\n",
       "   'last_name': 'Barrichello',\n",
       "   'position': '17',\n",
       "   'wins': '0',\n",
       "   'DOB': '1972-05-23',\n",
       "   'nationality': 'Brazilian',\n",
       "   'contructor': 'Honda'}},\n",
       " {'Nelson Piquet Jr.': {'first_name': 'Nelson',\n",
       "   'last_name': 'Piquet Jr.',\n",
       "   'position': '18',\n",
       "   'wins': '0',\n",
       "   'DOB': '1985-07-25',\n",
       "   'nationality': 'Brazilian',\n",
       "   'contructor': 'Renault'}},\n",
       " {'Takuma Sato': {'first_name': 'Takuma',\n",
       "   'last_name': 'Sato',\n",
       "   'position': '19',\n",
       "   'wins': '0',\n",
       "   'DOB': '1977-01-28',\n",
       "   'nationality': 'Japanese',\n",
       "   'contructor': 'Super Aguri'}},\n",
       " {'Anthony Davidson': {'first_name': 'Anthony',\n",
       "   'last_name': 'Davidson',\n",
       "   'position': '20',\n",
       "   'wins': '0',\n",
       "   'DOB': '1979-04-18',\n",
       "   'nationality': 'British',\n",
       "   'contructor': 'Super Aguri'}},\n",
       " {'Adrian Sutil': {'first_name': 'Adrian',\n",
       "   'last_name': 'Sutil',\n",
       "   'position': '21',\n",
       "   'wins': '0',\n",
       "   'DOB': '1983-01-11',\n",
       "   'nationality': 'German',\n",
       "   'contructor': 'Force India'}},\n",
       " {'Sebastian Vettel': {'first_name': 'Sebastian',\n",
       "   'last_name': 'Vettel',\n",
       "   'position': '22',\n",
       "   'wins': '0',\n",
       "   'DOB': '1987-07-03',\n",
       "   'nationality': 'German',\n",
       "   'contructor': 'Toro Rosso'}}]"
      ]
     },
     "execution_count": 22,
     "metadata": {},
     "output_type": "execute_result"
    }
   ],
   "source": [
    "def get_racer_info(data):\n",
    "    new_data=[]\n",
    "    for racer in data:\n",
    "        racer_dict={}\n",
    "        racer_name = f\"{racer['Driver']['givenName']} {racer['Driver']['familyName']}\"\n",
    "        \n",
    "        racer_dict[racer_name]={\n",
    "            'first_name':racer['Driver']['givenName'],\n",
    "            'last_name':racer['Driver']['familyName'],\n",
    "            'position':racer['position'],\n",
    "            'wins':racer['wins'],\n",
    "            'DOB':racer['Driver']['dateOfBirth'],\n",
    "            'nationality':racer['Driver']['nationality'],\n",
    "            'contructor':racer['Constructors'][0]['name']\n",
    "        }\n",
    "        new_data.append(racer_dict)\n",
    "    return new_data\n",
    "\n",
    "get_racer_info(data)"
   ]
  },
  {
   "cell_type": "code",
   "execution_count": null,
   "id": "cb9059e6",
   "metadata": {},
   "outputs": [],
   "source": []
  },
  {
   "cell_type": "code",
   "execution_count": null,
   "id": "0acacab9",
   "metadata": {},
   "outputs": [],
   "source": []
  },
  {
   "cell_type": "code",
   "execution_count": null,
   "id": "2517b951",
   "metadata": {},
   "outputs": [],
   "source": []
  },
  {
   "cell_type": "markdown",
   "id": "6d546014",
   "metadata": {},
   "source": [
    "# <strong>Homework</strong>\n",
    "check out this Pokemon API https://pokeapi.co/\n",
    "Use the requests package to connect to this API and get and store data for 5 different pokemon.\n",
    "Get the pokemons: name, atleast one ability's name, base_experience, and the URL for its sprite (an image that shows up on screen) for the 'front_shiny', attack base_state, hp base_stat, defense base_stat"
   ]
  },
  {
   "cell_type": "code",
   "execution_count": 84,
   "id": "5a9081e3",
   "metadata": {
    "scrolled": false
   },
   "outputs": [],
   "source": [
    "import requests\n",
    "gengar = requests.get('https://pokeapi.co/api/v2/pokemon/gengar')\n",
    "zacian = requests.get('https://pokeapi.co/api/v2/pokemon/zacian')\n",
    "kyogre = requests.get('https://pokeapi.co/api/v2/pokemon/kyogre')\n",
    "necrozma = requests.get('https://pokeapi.co/api/v2/pokemon/necrozma')\n",
    "mewtwo = requests.get('https://pokeapi.co/api/v2/pokemon/mewtwo')\n",
    "yveltal = requests.get('https://pokeapi.co/api/v2/pokemon/yveltal')"
   ]
  },
  {
   "cell_type": "code",
   "execution_count": 113,
   "id": "cca99aa5",
   "metadata": {},
   "outputs": [
    {
     "name": "stdout",
     "output_type": "stream",
     "text": [
      "name: yveltal, ability: dark-aura, base hp: 126, attack: 131, special attack 131, base experience: 340, sprite: https://raw.githubusercontent.com/PokeAPI/sprites/master/sprites/pokemon/717.png base hp: 126\n"
     ]
    }
   ],
   "source": [
    "def pokemon_info(pokemon):\n",
    "    name = pokemon.json()['name']\n",
    "    ability = pokemon.json()['abilities'][0]['ability']['name']\n",
    "    base = pokemon.json()['base_experience']\n",
    "    hp = pokemon.json()['stats'][0]['base_stat']\n",
    "    attack = pokemon.json()['stats'][1]['base_stat']\n",
    "    special = pokemon.json()['stats'][3]['base_stat']\n",
    "    sprite = pokemon.json()['sprites']['front_default']\n",
    "    info = f'name: {name}, ability: {ability}, base hp: {hp}, attack: {attack}, special attack {special}, base experience: {base}, sprite: {sprite} base hp: {hp}'\n",
    "    print(info)\n",
    "\n",
    "pokemon_info(yveltal)\n",
    "\n"
   ]
  },
  {
   "cell_type": "code",
   "execution_count": 122,
   "id": "2a3516ca",
   "metadata": {},
   "outputs": [
    {
     "name": "stdout",
     "output_type": "stream",
     "text": [
      "name: gengar, ability: cursed-body, base hp: 60, attack: 65, special attack 130, base experience: 250, sprite: https://raw.githubusercontent.com/PokeAPI/sprites/master/sprites/pokemon/94.png base hp: 60\n",
      "None\n",
      "____________________________________________________________________________________________________\n",
      "name: zacian, ability: intrepid-sword, base hp: 92, attack: 130, special attack 80, base experience: 335, sprite: https://raw.githubusercontent.com/PokeAPI/sprites/master/sprites/pokemon/888.png base hp: 92\n",
      "None\n",
      "____________________________________________________________________________________________________\n",
      "name: kyogre, ability: drizzle, base hp: 100, attack: 100, special attack 150, base experience: 335, sprite: https://raw.githubusercontent.com/PokeAPI/sprites/master/sprites/pokemon/382.png base hp: 100\n",
      "None\n",
      "____________________________________________________________________________________________________\n",
      "name: necrozma, ability: prism-armor, base hp: 97, attack: 107, special attack 127, base experience: 300, sprite: https://raw.githubusercontent.com/PokeAPI/sprites/master/sprites/pokemon/800.png base hp: 97\n",
      "None\n",
      "____________________________________________________________________________________________________\n",
      "name: mewtwo, ability: pressure, base hp: 106, attack: 110, special attack 154, base experience: 340, sprite: https://raw.githubusercontent.com/PokeAPI/sprites/master/sprites/pokemon/150.png base hp: 106\n",
      "None\n",
      "____________________________________________________________________________________________________\n",
      "name: yveltal, ability: dark-aura, base hp: 126, attack: 131, special attack 131, base experience: 340, sprite: https://raw.githubusercontent.com/PokeAPI/sprites/master/sprites/pokemon/717.png base hp: 126\n",
      "None\n",
      "____________________________________________________________________________________________________\n"
     ]
    }
   ],
   "source": [
    "print(pokemon_info(gengar))\n",
    "print('_'*100)\n",
    "print(pokemon_info(zacian))\n",
    "print('_'*100)\n",
    "print(pokemon_info(kyogre))\n",
    "print('_'*100)\n",
    "print(pokemon_info(necrozma))\n",
    "print('_'*100)\n",
    "print(pokemon_info(mewtwo))\n",
    "print('_'*100)\n",
    "print(pokemon_info(yveltal))\n",
    "print('_'*100)"
   ]
  },
  {
   "cell_type": "code",
   "execution_count": 81,
   "id": "38049b2a",
   "metadata": {},
   "outputs": [],
   "source": []
  },
  {
   "cell_type": "code",
   "execution_count": null,
   "id": "59ad4027",
   "metadata": {},
   "outputs": [],
   "source": []
  }
 ],
 "metadata": {
  "kernelspec": {
   "display_name": "Python 3 (ipykernel)",
   "language": "python",
   "name": "python3"
  },
  "language_info": {
   "codemirror_mode": {
    "name": "ipython",
    "version": 3
   },
   "file_extension": ".py",
   "mimetype": "text/x-python",
   "name": "python",
   "nbconvert_exporter": "python",
   "pygments_lexer": "ipython3",
   "version": "3.9.12"
  }
 },
 "nbformat": 4,
 "nbformat_minor": 5
}
